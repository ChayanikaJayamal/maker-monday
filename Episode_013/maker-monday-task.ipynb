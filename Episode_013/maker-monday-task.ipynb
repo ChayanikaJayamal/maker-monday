{
 "cells": [
  {
   "cell_type": "code",
   "execution_count": 41,
   "metadata": {},
   "outputs": [],
   "source": [
    "from PIL import Image \n",
    "import numpy\n",
    "import os\n",
    "\n",
    "X_train_true = []\n",
    "X_train_false = []\n",
    "y_train = [1 for i in range(0,18)] + [0 for x in range(0,18)]\n",
    "\n",
    "\n"
   ]
  },
  {
   "cell_type": "code",
   "execution_count": 42,
   "metadata": {},
   "outputs": [],
   "source": [
    "for file in os.listdir('images/train/'):\n",
    "    try:\n",
    "        image_array = numpy.array(Image.open('images/train/'+file).convert('L'))\n",
    "        if 'true' in file:\n",
    "            X_train_true.append(image_array.flatten())\n",
    "        else:\n",
    "            X_train_false.append(image_array.flatten())\n",
    "    except:\n",
    "        continue\n",
    "        \n",
    "X_train = X_train_true + X_train_false\n"
   ]
  },
  {
   "cell_type": "code",
   "execution_count": 43,
   "metadata": {},
   "outputs": [],
   "source": [
    "X_test_true = []\n",
    "X_test_false = []\n",
    "y_test = [1 for i in range(0,5)] + [0 for x in range(0,5)]\n",
    "\n"
   ]
  },
  {
   "cell_type": "code",
   "execution_count": 44,
   "metadata": {},
   "outputs": [],
   "source": [
    "for file in os.listdir('images/test/'):\n",
    "    try:\n",
    "        image_array = numpy.array(Image.open('images/test/'+file).convert('L'))\n",
    "        if 'true' in file:\n",
    "            X_test_true.append(image_array.flatten())\n",
    "        else:\n",
    "            X_test_false.append(image_array.flatten())\n",
    "    except:\n",
    "        continue\n",
    "\n",
    "X_test = X_test_true + X_test_false"
   ]
  },
  {
   "cell_type": "code",
   "execution_count": 45,
   "metadata": {},
   "outputs": [
    {
     "name": "stdout",
     "output_type": "stream",
     "text": [
      "0.5\n"
     ]
    }
   ],
   "source": [
    "from sklearn.tree import DecisionTreeClassifier\n",
    "\n",
    "dtc = DecisionTreeClassifier(random_state=25)\n",
    "\n",
    "dtc.fit(X_train, y_train)\n",
    "y_pred = dtc.predict(X_test)\n",
    "score=accuracy_score(y_test, y_pred)\n",
    "print(score)\n",
    "\n",
    "\n",
    "\n",
    "\n",
    "\n",
    "\n"
   ]
  },
  {
   "cell_type": "code",
   "execution_count": 46,
   "metadata": {},
   "outputs": [
    {
     "name": "stdout",
     "output_type": "stream",
     "text": [
      "0.6\n"
     ]
    }
   ],
   "source": [
    "from sklearn.linear_model import LogisticRegression\n",
    "\n",
    "log_reg = LogisticRegression(multi_class=\"multinomial\", solver=\"lbfgs\", random_state=10)\n",
    "log_reg.fit(X_train, y_train)\n",
    "\n",
    "y_pred = log_reg.predict(X_test)\n",
    "score=accuracy_score(y_test, y_pred)\n",
    "print(score)\n"
   ]
  },
  {
   "cell_type": "code",
   "execution_count": 47,
   "metadata": {},
   "outputs": [
    {
     "name": "stdout",
     "output_type": "stream",
     "text": [
      "0.5\n"
     ]
    }
   ],
   "source": [
    "from sklearn.naive_bayes import GaussianNB\n",
    "\n",
    "gnb = GaussianNB()\n",
    "\n",
    "gnb.fit(X_train, y_train)\n",
    "y_pred = gnb.predict(X_test)\n",
    "score=accuracy_score(y_test, y_pred)\n",
    "print(score)\n"
   ]
  },
  {
   "cell_type": "code",
   "execution_count": 50,
   "metadata": {},
   "outputs": [
    {
     "name": "stdout",
     "output_type": "stream",
     "text": [
      "0.5\n"
     ]
    }
   ],
   "source": [
    "\n",
    "from sklearn.ensemble import RandomForestClassifier\n",
    "from sklearn.metrics import accuracy_score\n",
    "\n",
    "\n",
    "\n",
    "#rnd_clf = RandomForestClassifier(random_state=0)\n",
    "rnd_clf = RandomForestClassifier(random_state=25)\n",
    "rnd_clf.fit(X_train, y_train)\n",
    "\n",
    "y_pred = rnd_clf.predict(X_test)\n",
    "score=accuracy_score(y_test, y_pred)\n",
    "print(score)"
   ]
  },
  {
   "cell_type": "code",
   "execution_count": 39,
   "metadata": {},
   "outputs": [
    {
     "data": {
      "text/plain": [
       "['rnd_clf.pkl']"
      ]
     },
     "execution_count": 39,
     "metadata": {},
     "output_type": "execute_result"
    }
   ],
   "source": [
    "from sklearn.externals import joblib\n",
    "joblib.dump(rnd_clf, 'rnd_clf.pkl' ) \n"
   ]
  },
  {
   "cell_type": "code",
   "execution_count": 52,
   "metadata": {},
   "outputs": [],
   "source": [
    "# Loading our Model for Faster use. :D\n",
    "rnd_clf2 = joblib.load('rnd_clf.pkl')\n",
    "y_pred = rnd_clf2.predict(X_test)\n",
    "score = accuracy_score(y_test, y_pred)\n"
   ]
  },
  {
   "cell_type": "code",
   "execution_count": null,
   "metadata": {},
   "outputs": [],
   "source": []
  }
 ],
 "metadata": {
  "kernelspec": {
   "display_name": "Python 3",
   "language": "python",
   "name": "python3"
  },
  "language_info": {
   "codemirror_mode": {
    "name": "ipython",
    "version": 3
   },
   "file_extension": ".py",
   "mimetype": "text/x-python",
   "name": "python",
   "nbconvert_exporter": "python",
   "pygments_lexer": "ipython3",
   "version": "3.6.5"
  }
 },
 "nbformat": 4,
 "nbformat_minor": 2
}
